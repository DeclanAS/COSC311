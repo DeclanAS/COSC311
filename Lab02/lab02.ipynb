{
 "cells": [
  {
   "cell_type": "markdown",
   "metadata": {},
   "source": [
    "# Lab 02\n",
    "Author: Declan Sheehan [dsheehan1@gulls.salisbury.edu]\n",
    "\n",
    "Date: September 10th, 2020\n",
    "\n",
    "Description: Learning OOP Python in order to create geometric shapes for the use of data visualization.\n",
    "\n",
    "## Task 1\n",
    "- [X] Write a Python class called Vector to represent a 2-dimensional point/vector, with x and y coordinates\n",
    "    - [X] Include methods to overload addition and subtraction with other vectors.\n",
    "    - [X] Include a method to compute the dot product with another vector\n",
    "    - [X] Include a method to compute the distance to another vector"
   ]
  },
  {
   "cell_type": "code",
   "execution_count": 36,
   "metadata": {},
   "outputs": [],
   "source": [
    "import matplotlib.pyplot as plt\n",
    "from collections import Counter\n",
    "import numpy as np\n",
    "import math\n",
    "\n",
    "class Vector:\n",
    "    def __init__(self, x, y):\n",
    "        self.x_coor = x\n",
    "        self.y_coor = y\n",
    "        \n",
    "    def __add__(self, other):\n",
    "        return Vector(self.x_coor + other.x_coor, self.y_coor + other.y_coor)\n",
    "    \n",
    "    def __sub__(self, other):\n",
    "        return Vector(self.x_coor - other.x_coor, self.y_coor - other.y_coor)\n",
    "    \n",
    "    def dot_product(self, other):\n",
    "        return ((self.x_coor * other.x_coor) + (self.y_coor * other.y_coor))\n",
    "    \n",
    "    def distance(self, other):\n",
    "        return math.sqrt(math.pow((other.x_coor - self.x_coor), 2) + math.pow((other.y_coor - self.y_coor), 2))\n",
    "    \n",
    "    def print_vector(self):\n",
    "        print(\"(\", self.x_coor, \", \", self.y_coor, \")\")\n",
    "    \n"
   ]
  },
  {
   "cell_type": "markdown",
   "metadata": {},
   "source": [
    "# Task 2\n",
    "\n",
    "- [X] Write a Python class called Geometry that represents a polygon with several vertices and faces, given\n",
    "by vectors.\n",
    "    - [X] You will add a face to the geometry by adding both of its constituent vectors. So when you add\n",
    "a face, check to see if you’re connecting to a vertex that is already present!\n",
    "    - [X] One way to make the “bookkeeping” simple is to store the vertices and faces separately:\n",
    "maintain a list or dictionary of vertices and then a list of pairs of those vertices, where a pair\n",
    "represents a face.\n",
    "    - [X] Include a method to add a face to the geometry. You do not need to worry about removing\n",
    "or “splitting” faces.\n",
    "    - [X] Include a method to check that the geometry is “closed” – the faces create a cycle that start\n",
    "and end at the same vertex.\n",
    "- [X] Write a method to draw the outline of the shape with matplotlib.\n",
    "- [X] Write a method to determine if a given point is inside the geometry.\n",
    "    - [X] Consider the query point, then “cast a ray” outward from that point in any direction (straight\n",
    "to the right will the be the easiest to program). Count the number of faces that the ray passes through: if it is odd, the point is inside the\n",
    "shape; if even, it lies outside.\n",
    "    - [X] Two special cases to consider:\n",
    "        - [X] If the ray passes along a face (the body must be non-convex for this), don’t count it as\n",
    "an intersection.\n",
    "        - [X] If the ray passes through a vertex exactly, only count it as a single intersection (not both\n",
    "faces that meet at that vertex).\n"
   ]
  },
  {
   "cell_type": "code",
   "execution_count": 37,
   "metadata": {},
   "outputs": [],
   "source": [
    "class Geometry:\n",
    "    # Initialization:\n",
    "    def __init__(self):\n",
    "        self.vertices = []\n",
    "        self.faces = []\n",
    "        \n",
    "    # Add an edge to the shape.\n",
    "    def add_edge(self, vertexA, vertexB):\n",
    "        # Make sure not to add duplicate vertices.\n",
    "        if vertexA not in self.vertices:\n",
    "            self.vertices.append(vertexA)\n",
    "        if vertexB not in self.vertices:\n",
    "            self.vertices.append(vertexB)\n",
    "        # Add the edge nonetheless.\n",
    "        self.faces.append((vertexA, vertexB))\n",
    "    \n",
    "    # Determines whether the shapes is closed.\n",
    "    def closed(self):\n",
    "        check_list = []\n",
    "        # If there are zero vertices, return empty.\n",
    "        if not self.vertices:\n",
    "            return \"EMPTY\"\n",
    "        # Grab all instances of the vertices in the edge pair (v1, v2) ...\n",
    "        for face in self.faces:\n",
    "            check_list.append(face[0])\n",
    "            check_list.append(face[1])\n",
    "        \n",
    "        # Put the frequency of each unique vertex in a list.\n",
    "        frequency = list(Counter(check_list).values())\n",
    "        \n",
    "        # Only 1 instance of a vertex in this should mean it is open.\n",
    "        # All 2s should mean the shape is closed.\n",
    "        if 1 in frequency:\n",
    "            return \"OPEN\"\n",
    "        else:\n",
    "            return \"CLOSED\"\n",
    "    \n",
    "    # Prints the shape of the Geometric figure in mapplotlib.\n",
    "    def __str__(self):\n",
    "        for face in self.faces:\n",
    "            # Plot every edge [(x1, x2), (y1, y2)]\n",
    "            plt.plot([face[0].x_coor, face[1].x_coor], [face[0].y_coor, face[1].y_coor])\n",
    "        plt.show()\n",
    "        return \"\"\n",
    "        \n",
    "    # Determines whether a point lies in or out of a polygon\n",
    "    def inside(self, pnt):\n",
    "        # Counts the number of intersections given the pont\n",
    "        # and every single edge in the polygon.\n",
    "        counter = 0\n",
    "        for face in self.faces:\n",
    "            counter += self.intersection(face[0], face[1], pnt)\n",
    "            \n",
    "        if counter % 2 == 0:\n",
    "            return \"OUTSIDE\"\n",
    "        else:\n",
    "            return \"INSIDE\"\n",
    "    \n",
    "    # Determines whether the point intersects the pont.\n",
    "    def intersection(self, v1, v2, pnt):\n",
    "        # Assign different variables respectively.\n",
    "        x1, y1 = v1.x_coor, v1.y_coor\n",
    "        x2, y2 = v2.x_coor, v2.y_coor\n",
    "        x3, y3 = pnt[0], pnt[1]\n",
    "        x4, y4 = (x3 + 1000), y3 # To simulate the ray.\n",
    "\n",
    "        # Convert the segment into a linear equation.\n",
    "        a1 = y2 - y1\n",
    "        b1 = x1 - x2\n",
    "        c1 = (x2 * y1) - (x1 * y2)\n",
    "        d1 = (a1 * x3) + (b1 * y3) + c1\n",
    "        d2 = (a1 * x4) + (b1 * y4) + c1\n",
    "\n",
    "        # Checks to see if d1 and d2 lie on one side of the\n",
    "        # line segment (No intersection).\n",
    "        if (d1 > 0 and d2 > 0):\n",
    "            return 0\n",
    "        if (d1 < 0 and d2 < 0):\n",
    "            return 0\n",
    "        \n",
    "        # Convert the other segment into a linear equation.\n",
    "        a2 = y4 - y3\n",
    "        b2 = x3 - x4\n",
    "        c2 = (x4 * y3) - (x3 * y4)\n",
    "        d1 = (a2 * x1) + (b2 * y1) + c2\n",
    "        d2 = (a2 * x2) + (b2 * y2) + c2\n",
    "\n",
    "        # Checks to see if d1 and d2 lie on one side of the\n",
    "        # line segment (No intersection) but for the other.\n",
    "        if (d1 > 0 and d2 > 0):\n",
    "            return 0\n",
    "        if (d1 < 0 and d2 < 0):\n",
    "            return 0\n",
    "        \n",
    "        # Checks to see if the line segments share the same linear path.\n",
    "        if ((a1 * b2) - (a2 * b1) == 0.0):\n",
    "            return 2\n",
    "        # If not it does not not intersect, and is not collinear:\n",
    "        return 1\n"
   ]
  },
  {
   "cell_type": "markdown",
   "metadata": {},
   "source": [
    "- [X] Test your Geometry class and its methods on various shapes: triangle, rectangle, star, etc. Be creative!\n",
    "Show some examples of the interior/exterior testing (you do not have to illustrate/visualize the raycasting process)."
   ]
  },
  {
   "cell_type": "code",
   "execution_count": 38,
   "metadata": {},
   "outputs": [
    {
     "data": {
      "image/png": "[encoded data removed]",
      "text/plain": [
       "<Figure size 432x288 with 1 Axes>"
      ]
     },
     "metadata": {
      "needs_background": "light"
     },
     "output_type": "display_data"
    },
    {
     "name": "stdout",
     "output_type": "stream",
     "text": [
      " |--> The shape is: CLOSED and the coordinates (1.5, 1.5) is: OUTSIDE\n"
     ]
    },
    {
     "data": {
      "image/png": "[encoded data removed]",
      "text/plain": [
       "<Figure size 432x288 with 1 Axes>"
      ]
     },
     "metadata": {
      "needs_background": "light"
     },
     "output_type": "display_data"
    },
    {
     "name": "stdout",
     "output_type": "stream",
     "text": [
      " |--> The shape is: CLOSED and the coordinates (1.5, 1.5) is: INSIDE\n"
     ]
    },
    {
     "data": {
      "image/png": "[encoded data removed]",
      "text/plain": [
       "<Figure size 432x288 with 1 Axes>"
      ]
     },
     "metadata": {
      "needs_background": "light"
     },
     "output_type": "display_data"
    },
    {
     "name": "stdout",
     "output_type": "stream",
     "text": [
      " |--> The shape is: OPEN and the therefore is not a polygon.\n"
     ]
    },
    {
     "data": {
      "image/png": "[encoded data removed]",
      "text/plain": [
       "<Figure size 432x288 with 1 Axes>"
      ]
     },
     "metadata": {
      "needs_background": "light"
     },
     "output_type": "display_data"
    },
    {
     "name": "stdout",
     "output_type": "stream",
     "text": [
      " |--> The shape is: CLOSED and the coordinates (0, 2) is: OUTSIDE\n"
     ]
    }
   ],
   "source": [
    "# ========== Testing a regular triangle ==========\n",
    "Triangle = Geometry()\n",
    "\n",
    "V1, V2, V3 = Vector(1, 1), Vector(2, 2), Vector(3, 1)\n",
    "\n",
    "Triangle.add_edge(V1, V2)\n",
    "Triangle.add_edge(V1, V3)\n",
    "Triangle.add_edge(V2, V3)\n",
    "\n",
    "print(Triangle, \"|--> The shape is:\", Triangle.closed(), \"and the coordinates (1.5, 1.5) is:\", Triangle.inside((1.5, 1.5)))\n",
    "\n",
    "# ========== Testing a regular square ==========\n",
    "Square = Geometry()\n",
    "\n",
    "VA, VB, VC, VD = Vector(1, 1), Vector(1, 2), Vector(2, 1), Vector(2, 2)\n",
    "\n",
    "Square.add_edge(VA, VB)\n",
    "Square.add_edge(VA, VC)\n",
    "Square.add_edge(VB, VD)\n",
    "Square.add_edge(VC, VD)\n",
    "print(Square, \"|--> The shape is:\", Square.closed(), \"and the coordinates (1.5, 1.5) is:\", Square.inside((1.5, 1.5)))\n",
    "\n",
    "# ========== Testing an incomplete pentagon ==========\n",
    "Pentagon = Geometry()\n",
    "\n",
    "A, B, C, D, E = Vector(-1.176, -1.618), Vector(-1.902, 0.618), Vector(1.176, -1.618), Vector(1.902, 0.618), Vector(0,2)\n",
    "\n",
    "Pentagon.add_edge(A, B)\n",
    "Pentagon.add_edge(A, C)\n",
    "Pentagon.add_edge(C, D)\n",
    "Pentagon.add_edge(B, E)\n",
    "\n",
    "print(Pentagon, \"|--> The shape is:\", Pentagon.closed(), \"and the therefore is not a polygon.\")\n",
    "\n",
    "# ========== Testing a pentagram ==========\n",
    "Pentagram = Geometry()\n",
    "\n",
    "V, W, X, Y, Z = Vector(3, 0), Vector(1, 1.5), Vector(5, 1.5), Vector(1.5, 4.5), Vector(4.5, 4.5)\n",
    "\n",
    "Pentagram.add_edge(V, Y)\n",
    "Pentagram.add_edge(V, Z)\n",
    "Pentagram.add_edge(W, Z)\n",
    "Pentagram.add_edge(W, X)\n",
    "Pentagram.add_edge(Y, X)\n",
    "\n",
    "print(Pentagram, \"|--> The shape is:\", Pentagram.closed(), \"and the coordinates (0, 2) is:\", Pentagram.inside((0, 2)))\n",
    "# ========================================\n"
   ]
  },
  {
   "cell_type": "code",
   "execution_count": null,
   "metadata": {},
   "outputs": [],
   "source": []
  }
 ],
 "metadata": {
  "kernelspec": {
   "display_name": "Python 3",
   "language": "python",
   "name": "python3"
  },
  "language_info": {
   "codemirror_mode": {
    "name": "ipython",
    "version": 3
   },
   "file_extension": ".py",
   "mimetype": "text/x-python",
   "name": "python",
   "nbconvert_exporter": "python",
   "pygments_lexer": "ipython3",
   "version": "3.6.7"
  }
 },
 "nbformat": 4,
 "nbformat_minor": 2
}
